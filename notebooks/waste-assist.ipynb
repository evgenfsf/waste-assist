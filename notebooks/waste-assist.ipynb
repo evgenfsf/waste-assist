{
 "cells": [
  {
   "cell_type": "markdown",
   "id": "297adcf8",
   "metadata": {},
   "source": [
    "# Waste-Assist Classification¶"
   ]
  },
  {
   "cell_type": "code",
   "execution_count": 1,
   "id": "f3a3025d",
   "metadata": {
    "scrolled": true
   },
   "outputs": [
    {
     "name": "stderr",
     "output_type": "stream",
     "text": [
      "2021-08-24 00:19:22.497280: W tensorflow/stream_executor/platform/default/dso_loader.cc:64] Could not load dynamic library 'libcudart.so.11.0'; dlerror: libcudart.so.11.0: cannot open shared object file: No such file or directory\n",
      "2021-08-24 00:19:22.497331: I tensorflow/stream_executor/cuda/cudart_stub.cc:29] Ignore above cudart dlerror if you do not have a GPU set up on your machine.\n"
     ]
    }
   ],
   "source": [
    "import tensorflow as tf\n",
    "from keras.preprocessing.image import ImageDataGenerator\n",
    "import matplotlib.pyplot as plt\n",
    "import numpy as np"
   ]
  },
  {
   "cell_type": "markdown",
   "id": "1f0096d3",
   "metadata": {},
   "source": [
    "# Preprocessing the Training set"
   ]
  },
  {
   "cell_type": "code",
   "execution_count": 2,
   "id": "d59afd2e",
   "metadata": {},
   "outputs": [
    {
     "name": "stdout",
     "output_type": "stream",
     "text": [
      "Found 2678 images belonging to 7 classes.\n"
     ]
    }
   ],
   "source": [
    "train_datagen = ImageDataGenerator(rescale = 1./255,\n",
    "                                   shear_range = 0.2,\n",
    "                                   zoom_range = 0.2,\n",
    "                                   horizontal_flip = True)\n",
    "X_train = train_datagen.flow_from_directory('dataset/training_set',\n",
    "                                                 target_size = (64, 64),\n",
    "                                                 batch_size = 32,\n",
    "                                                 class_mode = 'categorical')"
   ]
  },
  {
   "cell_type": "code",
   "execution_count": 3,
   "id": "f3d4e7f1",
   "metadata": {},
   "outputs": [
    {
     "data": {
      "text/plain": [
       "{'cardboard': 0,\n",
       " 'compost': 1,\n",
       " 'glass': 2,\n",
       " 'metal': 3,\n",
       " 'paper': 4,\n",
       " 'plastic': 5,\n",
       " 'trash': 6}"
      ]
     },
     "execution_count": 3,
     "metadata": {},
     "output_type": "execute_result"
    }
   ],
   "source": [
    "X_train.class_indices"
   ]
  },
  {
   "cell_type": "markdown",
   "id": "5844a4ea",
   "metadata": {},
   "source": [
    "# Preprocessing the Test set"
   ]
  },
  {
   "cell_type": "code",
   "execution_count": 4,
   "id": "0987f0d1",
   "metadata": {},
   "outputs": [
    {
     "name": "stdout",
     "output_type": "stream",
     "text": [
      "Found 73 images belonging to 7 classes.\n"
     ]
    }
   ],
   "source": [
    "test_datagen = ImageDataGenerator(rescale = 1./255)\n",
    "y_train = test_datagen.flow_from_directory('dataset/test_set',\n",
    "                                            target_size = (64, 64),\n",
    "                                            batch_size = 32,\n",
    "                                            class_mode = 'categorical')"
   ]
  },
  {
   "cell_type": "markdown",
   "id": "1e93de9a",
   "metadata": {},
   "source": [
    "# Building the CNN"
   ]
  },
  {
   "cell_type": "code",
   "execution_count": 5,
   "id": "c5b818ea",
   "metadata": {},
   "outputs": [],
   "source": [
    "from tensorflow.keras import Sequential, layers\n",
    "from tensorflow.keras.layers import Conv2D, MaxPooling2D, Flatten, Dropout, Dense\n",
    "\n",
    "def initialize_model():\n",
    "    '''instanciate and return the CNN architecture'''\n",
    "    model = Sequential()\n",
    "\n",
    "    model.add(Conv2D(32, (3,3), activation='relu', input_shape=(64, 64, 3), padding='same'))\n",
    "    model.add(MaxPooling2D(2,2))\n",
    "    model.add(Dropout(0.2))\n",
    "\n",
    "    model.add(Conv2D(64, (3,3), activation='relu', padding='same'))\n",
    "    model.add(MaxPooling2D(2,2))\n",
    "    model.add(Dropout(0.2))\n",
    "\n",
    "    model.add(Flatten())\n",
    "    model.add(Dense(100, activation='relu'))\n",
    "    model.add(Dropout(0.4))\n",
    "    model.add(Dense(7, activation='softmax'))\n",
    "\n",
    "    return model"
   ]
  },
  {
   "cell_type": "code",
   "execution_count": 6,
   "id": "bae9cf9a",
   "metadata": {},
   "outputs": [
    {
     "name": "stdout",
     "output_type": "stream",
     "text": [
      "Model: \"sequential\"\n",
      "_________________________________________________________________\n",
      "Layer (type)                 Output Shape              Param #   \n",
      "=================================================================\n",
      "conv2d (Conv2D)              (None, 64, 64, 32)        896       \n",
      "_________________________________________________________________\n",
      "max_pooling2d (MaxPooling2D) (None, 32, 32, 32)        0         \n",
      "_________________________________________________________________\n",
      "dropout (Dropout)            (None, 32, 32, 32)        0         \n",
      "_________________________________________________________________\n",
      "conv2d_1 (Conv2D)            (None, 32, 32, 64)        18496     \n",
      "_________________________________________________________________\n",
      "max_pooling2d_1 (MaxPooling2 (None, 16, 16, 64)        0         \n",
      "_________________________________________________________________\n",
      "dropout_1 (Dropout)          (None, 16, 16, 64)        0         \n",
      "_________________________________________________________________\n",
      "flatten (Flatten)            (None, 16384)             0         \n",
      "_________________________________________________________________\n",
      "dense (Dense)                (None, 100)               1638500   \n",
      "_________________________________________________________________\n",
      "dropout_2 (Dropout)          (None, 100)               0         \n",
      "_________________________________________________________________\n",
      "dense_1 (Dense)              (None, 7)                 707       \n",
      "=================================================================\n",
      "Total params: 1,658,599\n",
      "Trainable params: 1,658,599\n",
      "Non-trainable params: 0\n",
      "_________________________________________________________________\n"
     ]
    },
    {
     "name": "stderr",
     "output_type": "stream",
     "text": [
      "2021-08-24 00:19:25.779292: W tensorflow/stream_executor/platform/default/dso_loader.cc:64] Could not load dynamic library 'libcuda.so.1'; dlerror: libcuda.so.1: cannot open shared object file: No such file or directory\n",
      "2021-08-24 00:19:25.779396: W tensorflow/stream_executor/cuda/cuda_driver.cc:326] failed call to cuInit: UNKNOWN ERROR (303)\n",
      "2021-08-24 00:19:25.779425: I tensorflow/stream_executor/cuda/cuda_diagnostics.cc:156] kernel driver does not appear to be running on this host (DESKTOP-BM2AJIC): /proc/driver/nvidia/version does not exist\n",
      "2021-08-24 00:19:25.779678: I tensorflow/core/platform/cpu_feature_guard.cc:142] This TensorFlow binary is optimized with oneAPI Deep Neural Network Library (oneDNN) to use the following CPU instructions in performance-critical operations:  AVX2 FMA\n",
      "To enable them in other operations, rebuild TensorFlow with the appropriate compiler flags.\n"
     ]
    }
   ],
   "source": [
    "model = initialize_model()\n",
    "model.summary()"
   ]
  },
  {
   "cell_type": "markdown",
   "id": "d03cba96",
   "metadata": {},
   "source": [
    "# Compiling and Training the CNN"
   ]
  },
  {
   "cell_type": "code",
   "execution_count": 7,
   "id": "0929dff2",
   "metadata": {},
   "outputs": [],
   "source": [
    "from tensorflow.keras import optimizers\n",
    "\n",
    "def compile_model(model):\n",
    "    '''return a compiled model suited for the cifar tasks'''\n",
    "    \n",
    "    model.compile(loss='categorical_crossentropy',\n",
    "                  optimizer='adam', \n",
    "                  metrics='accuracy')\n",
    "    return model"
   ]
  },
  {
   "cell_type": "code",
   "execution_count": 8,
   "id": "078debbe",
   "metadata": {},
   "outputs": [
    {
     "name": "stderr",
     "output_type": "stream",
     "text": [
      "2021-08-24 00:19:26.757746: I tensorflow/compiler/mlir/mlir_graph_optimization_pass.cc:176] None of the MLIR Optimization Passes are enabled (registered 2)\n",
      "2021-08-24 00:19:26.758396: I tensorflow/core/platform/profile_utils/cpu_utils.cc:114] CPU Frequency: 2394460000 Hz\n"
     ]
    },
    {
     "name": "stdout",
     "output_type": "stream",
     "text": [
      "Epoch 1/100\n",
      "84/84 [==============================] - 13s 153ms/step - loss: 1.8222 - accuracy: 0.2509 - val_loss: 1.7327 - val_accuracy: 0.3288\n",
      "Epoch 2/100\n",
      "84/84 [==============================] - 12s 141ms/step - loss: 1.5624 - accuracy: 0.3865 - val_loss: 1.6991 - val_accuracy: 0.3288\n",
      "Epoch 3/100\n",
      "84/84 [==============================] - 13s 153ms/step - loss: 1.4698 - accuracy: 0.4137 - val_loss: 1.6206 - val_accuracy: 0.4384\n",
      "Epoch 4/100\n",
      "84/84 [==============================] - 32s 377ms/step - loss: 1.3848 - accuracy: 0.4548 - val_loss: 1.5449 - val_accuracy: 0.4658\n",
      "Epoch 5/100\n",
      "84/84 [==============================] - 14s 162ms/step - loss: 1.3166 - accuracy: 0.4925 - val_loss: 1.6283 - val_accuracy: 0.4932\n",
      "Epoch 6/100\n",
      "84/84 [==============================] - 12s 136ms/step - loss: 1.2862 - accuracy: 0.5127 - val_loss: 1.4665 - val_accuracy: 0.5479\n",
      "Epoch 7/100\n",
      "84/84 [==============================] - 12s 144ms/step - loss: 1.2545 - accuracy: 0.5321 - val_loss: 1.5078 - val_accuracy: 0.5616\n",
      "Epoch 8/100\n",
      "84/84 [==============================] - 12s 146ms/step - loss: 1.2161 - accuracy: 0.5467 - val_loss: 1.5107 - val_accuracy: 0.5342\n",
      "Epoch 9/100\n",
      "84/84 [==============================] - 12s 146ms/step - loss: 1.1943 - accuracy: 0.5594 - val_loss: 1.3467 - val_accuracy: 0.5753\n",
      "Epoch 10/100\n",
      "84/84 [==============================] - 12s 146ms/step - loss: 1.1709 - accuracy: 0.5657 - val_loss: 1.3062 - val_accuracy: 0.6301\n",
      "Epoch 11/100\n",
      "84/84 [==============================] - 12s 146ms/step - loss: 1.1508 - accuracy: 0.5736 - val_loss: 1.2329 - val_accuracy: 0.5890\n",
      "Epoch 12/100\n",
      "84/84 [==============================] - 12s 147ms/step - loss: 1.1086 - accuracy: 0.5866 - val_loss: 1.2018 - val_accuracy: 0.6301\n",
      "Epoch 13/100\n",
      "84/84 [==============================] - 13s 150ms/step - loss: 1.0965 - accuracy: 0.6027 - val_loss: 1.1600 - val_accuracy: 0.6575\n",
      "Epoch 14/100\n",
      "84/84 [==============================] - 12s 146ms/step - loss: 1.1126 - accuracy: 0.5997 - val_loss: 1.3213 - val_accuracy: 0.6164\n",
      "Epoch 15/100\n",
      "84/84 [==============================] - 13s 155ms/step - loss: 1.0695 - accuracy: 0.6102 - val_loss: 1.2580 - val_accuracy: 0.6301\n",
      "Epoch 16/100\n",
      "84/84 [==============================] - 13s 150ms/step - loss: 1.0688 - accuracy: 0.6120 - val_loss: 1.1934 - val_accuracy: 0.6438\n",
      "Epoch 17/100\n",
      "84/84 [==============================] - 13s 150ms/step - loss: 0.9942 - accuracy: 0.6370 - val_loss: 1.2061 - val_accuracy: 0.6301\n",
      "Epoch 18/100\n",
      "84/84 [==============================] - 13s 150ms/step - loss: 0.9961 - accuracy: 0.6363 - val_loss: 1.0739 - val_accuracy: 0.6575\n",
      "Epoch 19/100\n",
      "84/84 [==============================] - 13s 148ms/step - loss: 0.9620 - accuracy: 0.6497 - val_loss: 1.1762 - val_accuracy: 0.6438\n",
      "Epoch 20/100\n",
      "84/84 [==============================] - 13s 153ms/step - loss: 0.9635 - accuracy: 0.6468 - val_loss: 1.2162 - val_accuracy: 0.6575\n",
      "Epoch 21/100\n",
      "84/84 [==============================] - 13s 151ms/step - loss: 0.9193 - accuracy: 0.6535 - val_loss: 1.1160 - val_accuracy: 0.6986\n",
      "Epoch 22/100\n",
      "84/84 [==============================] - 13s 152ms/step - loss: 0.9324 - accuracy: 0.6550 - val_loss: 1.1847 - val_accuracy: 0.6712\n",
      "Epoch 23/100\n",
      "84/84 [==============================] - 13s 156ms/step - loss: 0.9033 - accuracy: 0.6680 - val_loss: 1.1413 - val_accuracy: 0.6986\n",
      "Epoch 00023: early stopping\n"
     ]
    }
   ],
   "source": [
    "from tensorflow.keras.callbacks import EarlyStopping\n",
    "\n",
    "\n",
    "model = compile_model(model)\n",
    "\n",
    "es = EarlyStopping(patience=5, verbose=2)\n",
    "\n",
    "history = model.fit(X_train, validation_data = y_train, \n",
    "                    callbacks=[es], \n",
    "                    epochs=100, \n",
    "                    batch_size=32)"
   ]
  },
  {
   "cell_type": "code",
   "execution_count": 9,
   "id": "3e25ac0c",
   "metadata": {},
   "outputs": [],
   "source": [
    "def plot_history(history, title='', axs=None, exp_name=\"\"):\n",
    "    if axs is not None:\n",
    "        ax1, ax2 = axs\n",
    "    else:\n",
    "        f, (ax1, ax2) = plt.subplots(1, 2, figsize=(12, 4))\n",
    "    \n",
    "    if len(exp_name) > 0 and exp_name[0] != '_':\n",
    "        exp_name = '_' + exp_name\n",
    "    ax1.plot(history.history['loss'], label='train' + exp_name)\n",
    "    ax1.plot(history.history['val_loss'], label='val' + exp_name)\n",
    "    ax1.set_ylim(0., 2.2)\n",
    "    ax1.set_title('loss')\n",
    "    ax1.legend()\n",
    "\n",
    "    ax2.plot(history.history['accuracy'], label='train accuracy'  + exp_name)\n",
    "    ax2.plot(history.history['val_accuracy'], label='val accuracy'  + exp_name)\n",
    "    ax2.set_ylim(0.25, 1.)\n",
    "    ax2.set_title('Accuracy')\n",
    "    ax2.legend()\n",
    "    return (ax1, ax2)"
   ]
  },
  {
   "cell_type": "code",
   "execution_count": 10,
   "id": "f64a8d7b",
   "metadata": {},
   "outputs": [
    {
     "data": {
      "image/png": "[encoded data removed]",
      "text/plain": [
       "<Figure size 864x288 with 2 Axes>"
      ]
     },
     "metadata": {
      "needs_background": "light"
     },
     "output_type": "display_data"
    }
   ],
   "source": [
    "plot_history(history)\n",
    "plt.show()"
   ]
  },
  {
   "cell_type": "markdown",
   "id": "a71af7b6",
   "metadata": {},
   "source": [
    "# Making a single prediction"
   ]
  },
  {
   "cell_type": "code",
   "execution_count": 11,
   "id": "bea9ae0c",
   "metadata": {},
   "outputs": [
    {
     "name": "stdout",
     "output_type": "stream",
     "text": [
      "[[0. 0. 1. 0. 0. 0. 0.]]\n"
     ]
    },
    {
     "data": {
      "text/plain": [
       "{'cardboard': 0,\n",
       " 'compost': 1,\n",
       " 'glass': 2,\n",
       " 'metal': 3,\n",
       " 'paper': 4,\n",
       " 'plastic': 5,\n",
       " 'trash': 6}"
      ]
     },
     "execution_count": 11,
     "metadata": {},
     "output_type": "execute_result"
    }
   ],
   "source": [
    "from keras.preprocessing import image\n",
    "\n",
    "test_image = image.load_img('dataset/single_prediction/plastic_image.jpg', target_size = (64, 64))\n",
    "test_image = image.img_to_array(test_image)\n",
    "test_image = np.expand_dims(test_image, axis = 0)\n",
    "result = model.predict(test_image)\n",
    "print(result)\n",
    "X_train.class_indices"
   ]
  },
  {
   "cell_type": "code",
   "execution_count": 12,
   "id": "5d69a816",
   "metadata": {},
   "outputs": [
    {
     "data": {
      "text/plain": [
       "'glass'"
      ]
     },
     "execution_count": 12,
     "metadata": {},
     "output_type": "execute_result"
    }
   ],
   "source": [
    "def prediction():\n",
    "    for key, value in X_train.class_indices.items():\n",
    "        if result[0][value] == 1:\n",
    "            return key\n",
    "prediction()"
   ]
  }
 ],
 "metadata": {
  "kernelspec": {
   "display_name": "Python 3 (ipykernel)",
   "language": "python",
   "name": "python3"
  },
  "language_info": {
   "codemirror_mode": {
    "name": "ipython",
    "version": 3
   },
   "file_extension": ".py",
   "mimetype": "text/x-python",
   "name": "python",
   "nbconvert_exporter": "python",
   "pygments_lexer": "ipython3",
   "version": "3.8.6"
  },
  "toc": {
   "base_numbering": 1,
   "nav_menu": {},
   "number_sections": true,
   "sideBar": true,
   "skip_h1_title": false,
   "title_cell": "Table of Contents",
   "title_sidebar": "Contents",
   "toc_cell": false,
   "toc_position": {},
   "toc_section_display": true,
   "toc_window_display": false
  }
 },
 "nbformat": 4,
 "nbformat_minor": 5
}
